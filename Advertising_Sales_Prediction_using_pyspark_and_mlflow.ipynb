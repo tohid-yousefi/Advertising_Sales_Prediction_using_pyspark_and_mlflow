{
 "cells": [
  {
   "cell_type": "markdown",
   "id": "61a626a1",
   "metadata": {},
   "source": [
    "# Advertising Sales Prediction using pyspark and mlflow\n",
    "\n",
    "📌 In this section, we will predict advertising sales using pyspark and mlflow."
   ]
  },
  {
   "cell_type": "markdown",
   "id": "14a3019d",
   "metadata": {},
   "source": [
    "# Business Problem\n",
    "\n",
    "📌 Here we need to build a model which predicts sales based on the money spent on different platforms for marketing. Click on this <a href=\"https://www.kaggle.com/datasets/ashydv/advertising-dataset\">link</a> to review the data set and variables."
   ]
  },
  {
   "cell_type": "markdown",
   "id": "baf47fcb",
   "metadata": {},
   "source": [
    "# Create Session in Spark"
   ]
  },
  {
   "cell_type": "code",
   "execution_count": 1,
   "id": "4366fc43",
   "metadata": {},
   "outputs": [
    {
     "name": "stdout",
     "output_type": "stream",
     "text": [
      "Requirement already satisfied: findspark in ./anaconda3/lib/python3.7/site-packages (2.0.1)\n",
      "\u001b[31mtwisted 18.7.0 requires PyHamcrest>=1.9.0, which is not installed.\u001b[0m\n",
      "\u001b[33mYou are using pip version 10.0.1, however version 23.0.1 is available.\n",
      "You should consider upgrading via the 'pip install --upgrade pip' command.\u001b[0m\n"
     ]
    }
   ],
   "source": [
    "!pip install findspark\n",
    "import findspark\n",
    "findspark.init(\"/opt/manual/spark/\")\n",
    "import pyspark\n",
    "from pyspark.sql import SparkSession\n",
    "from pyspark.conf import SparkConf\n",
    "from pyspark import SparkContext\n",
    "spark = (SparkSession.builder\n",
    "         .appName(\"Advertising_Sales_Prediction\")\n",
    "         .master(\"yarn\")\n",
    "           .config(\"spark.jars.packages\",\"org.mlflow:mlflow-spark:1.12.1\") \\\n",
    "         .enableHiveSupport()\n",
    "         .getOrCreate())"
   ]
  },
  {
   "cell_type": "code",
   "execution_count": 5,
   "id": "ef05f9dc",
   "metadata": {},
   "outputs": [
    {
     "data": {
      "text/html": [
       "\n",
       "        <div>\n",
       "            <p><b>SparkContext</b></p>\n",
       "\n",
       "            <p><a href=\"http://192.168.119.129:4040\">Spark UI</a></p>\n",
       "\n",
       "            <dl>\n",
       "              <dt>Version</dt>\n",
       "                <dd><code>v3.0.0</code></dd>\n",
       "              <dt>Master</dt>\n",
       "                <dd><code>yarn</code></dd>\n",
       "              <dt>AppName</dt>\n",
       "                <dd><code>Advertising_Sales_Prediction</code></dd>\n",
       "            </dl>\n",
       "        </div>\n",
       "        "
      ],
      "text/plain": [
       "<SparkContext master=yarn appName=Advertising_Sales_Prediction>"
      ]
     },
     "execution_count": 5,
     "metadata": {},
     "output_type": "execute_result"
    }
   ],
   "source": [
    "sc = spark.sparkContext\n",
    "sc"
   ]
  },
  {
   "cell_type": "markdown",
   "id": "be47941f",
   "metadata": {},
   "source": [
    "# Import Necesaary Libraries"
   ]
  },
  {
   "cell_type": "code",
   "execution_count": 6,
   "id": "dfb33b0c",
   "metadata": {},
   "outputs": [],
   "source": [
    "import pandas as pd\n",
    "pd.set_option(\"display.max_columns\", None)\n",
    "pd.set_option(\"display.max_rows\", None)\n",
    "pd.set_option(\"display.width\", 500)\n",
    "pd.set_option(\"display.float_format\", lambda x: '%.4f' % x)\n",
    "import pyspark.sql.functions as F\n",
    "from pyspark.ml.feature import StringIndexer, OneHotEncoder, VectorAssembler, StandardScaler\n",
    "from pyspark.ml.regression import RandomForestRegressor\n",
    "from pyspark.ml import Pipeline\n",
    "from pyspark.ml.evaluation import RegressionEvaluator\n",
    "from pyspark.ml.tuning import ParamGridBuilder, CrossValidator"
   ]
  },
  {
   "cell_type": "markdown",
   "id": "44e38308",
   "metadata": {},
   "source": [
    "# Import Dataset"
   ]
  },
  {
   "cell_type": "code",
   "execution_count": 8,
   "id": "ff50ef0e",
   "metadata": {},
   "outputs": [
    {
     "data": {
      "text/plain": [
       "DataFrame[ID: int, TV: double, Radio: double, Newspaper: double, Sales: double]"
      ]
     },
     "execution_count": 8,
     "metadata": {},
     "output_type": "execute_result"
    }
   ],
   "source": [
    "df = (spark.read.format(\"csv\")\n",
    "      .option(\"header\", True)\n",
    "      .option(\"inferSchema\", True)\n",
    "      .load(\"file:///home/train/datasets/Advertising.csv\")\n",
    "     )\n",
    "df.persist()"
   ]
  },
  {
   "cell_type": "code",
   "execution_count": 9,
   "id": "b04b0f29",
   "metadata": {},
   "outputs": [
    {
     "name": "stdout",
     "output_type": "stream",
     "text": [
      "+---+-----+-----+---------+-----+\n",
      "| ID|   TV|Radio|Newspaper|Sales|\n",
      "+---+-----+-----+---------+-----+\n",
      "|  1|230.1| 37.8|     69.2| 22.1|\n",
      "|  2| 44.5| 39.3|     45.1| 10.4|\n",
      "|  3| 17.2| 45.9|     69.3|  9.3|\n",
      "|  4|151.5| 41.3|     58.5| 18.5|\n",
      "|  5|180.8| 10.8|     58.4| 12.9|\n",
      "+---+-----+-----+---------+-----+\n",
      "only showing top 5 rows\n",
      "\n"
     ]
    }
   ],
   "source": [
    "df.show(5)"
   ]
  },
  {
   "cell_type": "code",
   "execution_count": 10,
   "id": "59ef9eac",
   "metadata": {},
   "outputs": [
    {
     "data": {
      "text/html": [
       "<div>\n",
       "<style scoped>\n",
       "    .dataframe tbody tr th:only-of-type {\n",
       "        vertical-align: middle;\n",
       "    }\n",
       "\n",
       "    .dataframe tbody tr th {\n",
       "        vertical-align: top;\n",
       "    }\n",
       "\n",
       "    .dataframe thead th {\n",
       "        text-align: right;\n",
       "    }\n",
       "</style>\n",
       "<table border=\"1\" class=\"dataframe\">\n",
       "  <thead>\n",
       "    <tr style=\"text-align: right;\">\n",
       "      <th></th>\n",
       "      <th>ID</th>\n",
       "      <th>TV</th>\n",
       "      <th>Radio</th>\n",
       "      <th>Newspaper</th>\n",
       "      <th>Sales</th>\n",
       "    </tr>\n",
       "  </thead>\n",
       "  <tbody>\n",
       "    <tr>\n",
       "      <th>0</th>\n",
       "      <td>1</td>\n",
       "      <td>230.1000</td>\n",
       "      <td>37.8000</td>\n",
       "      <td>69.2000</td>\n",
       "      <td>22.1000</td>\n",
       "    </tr>\n",
       "    <tr>\n",
       "      <th>1</th>\n",
       "      <td>2</td>\n",
       "      <td>44.5000</td>\n",
       "      <td>39.3000</td>\n",
       "      <td>45.1000</td>\n",
       "      <td>10.4000</td>\n",
       "    </tr>\n",
       "    <tr>\n",
       "      <th>2</th>\n",
       "      <td>3</td>\n",
       "      <td>17.2000</td>\n",
       "      <td>45.9000</td>\n",
       "      <td>69.3000</td>\n",
       "      <td>9.3000</td>\n",
       "    </tr>\n",
       "    <tr>\n",
       "      <th>3</th>\n",
       "      <td>4</td>\n",
       "      <td>151.5000</td>\n",
       "      <td>41.3000</td>\n",
       "      <td>58.5000</td>\n",
       "      <td>18.5000</td>\n",
       "    </tr>\n",
       "    <tr>\n",
       "      <th>4</th>\n",
       "      <td>5</td>\n",
       "      <td>180.8000</td>\n",
       "      <td>10.8000</td>\n",
       "      <td>58.4000</td>\n",
       "      <td>12.9000</td>\n",
       "    </tr>\n",
       "  </tbody>\n",
       "</table>\n",
       "</div>"
      ],
      "text/plain": [
       "   ID       TV   Radio  Newspaper   Sales\n",
       "0   1 230.1000 37.8000    69.2000 22.1000\n",
       "1   2  44.5000 39.3000    45.1000 10.4000\n",
       "2   3  17.2000 45.9000    69.3000  9.3000\n",
       "3   4 151.5000 41.3000    58.5000 18.5000\n",
       "4   5 180.8000 10.8000    58.4000 12.9000"
      ]
     },
     "execution_count": 10,
     "metadata": {},
     "output_type": "execute_result"
    }
   ],
   "source": [
    "df.limit(5).toPandas()"
   ]
  },
  {
   "cell_type": "code",
   "execution_count": 7,
   "id": "083b2255",
   "metadata": {},
   "outputs": [
    {
     "name": "stdout",
     "output_type": "stream",
     "text": [
      "root\n",
      " |-- TV: double (nullable = true)\n",
      " |-- Radio: double (nullable = true)\n",
      " |-- Newspaper: double (nullable = true)\n",
      " |-- Sales: double (nullable = true)\n",
      "\n"
     ]
    }
   ],
   "source": [
    "df.printSchema()"
   ]
  },
  {
   "cell_type": "code",
   "execution_count": 11,
   "id": "aecc3789",
   "metadata": {},
   "outputs": [
    {
     "name": "stdout",
     "output_type": "stream",
     "text": [
      "(200, 5)\n"
     ]
    }
   ],
   "source": [
    "print((df.count(), len(df.columns)))"
   ]
  },
  {
   "cell_type": "markdown",
   "id": "f30251d6",
   "metadata": {},
   "source": [
    "# Missing Value Analysis"
   ]
  },
  {
   "cell_type": "code",
   "execution_count": 12,
   "id": "23af98ed",
   "metadata": {},
   "outputs": [
    {
     "data": {
      "text/html": [
       "<div>\n",
       "<style scoped>\n",
       "    .dataframe tbody tr th:only-of-type {\n",
       "        vertical-align: middle;\n",
       "    }\n",
       "\n",
       "    .dataframe tbody tr th {\n",
       "        vertical-align: top;\n",
       "    }\n",
       "\n",
       "    .dataframe thead th {\n",
       "        text-align: right;\n",
       "    }\n",
       "</style>\n",
       "<table border=\"1\" class=\"dataframe\">\n",
       "  <thead>\n",
       "    <tr style=\"text-align: right;\">\n",
       "      <th></th>\n",
       "      <th>ID</th>\n",
       "      <th>TV</th>\n",
       "      <th>Radio</th>\n",
       "      <th>Newspaper</th>\n",
       "      <th>Sales</th>\n",
       "    </tr>\n",
       "  </thead>\n",
       "  <tbody>\n",
       "    <tr>\n",
       "      <th>0</th>\n",
       "      <td>0</td>\n",
       "      <td>0</td>\n",
       "      <td>0</td>\n",
       "      <td>0</td>\n",
       "      <td>0</td>\n",
       "    </tr>\n",
       "  </tbody>\n",
       "</table>\n",
       "</div>"
      ],
      "text/plain": [
       "   ID  TV  Radio  Newspaper  Sales\n",
       "0   0   0      0          0      0"
      ]
     },
     "execution_count": 12,
     "metadata": {},
     "output_type": "execute_result"
    }
   ],
   "source": [
    "df.select([F.count(F.when(F.isnan(c), c)).alias(c) for c in df.columns]).toPandas()"
   ]
  },
  {
   "cell_type": "code",
   "execution_count": 13,
   "id": "3e2ffd07",
   "metadata": {},
   "outputs": [],
   "source": [
    "def null_count(dataframe, col_name):\n",
    "    nc = dataframe.select(col_name).filter(\n",
    "        (F.col(col_name) == \"NA\")|\n",
    "        (F.col(col_name) == \"\") |\n",
    "        (F.col(col_name).isNull())\n",
    "    ).count()\n",
    "    return nc"
   ]
  },
  {
   "cell_type": "code",
   "execution_count": 14,
   "id": "6d2e321b",
   "metadata": {},
   "outputs": [
    {
     "data": {
      "text/plain": [
       "0"
      ]
     },
     "execution_count": 14,
     "metadata": {},
     "output_type": "execute_result"
    }
   ],
   "source": [
    "null_count(df, \"Sales\")"
   ]
  },
  {
   "cell_type": "code",
   "execution_count": 15,
   "id": "3f71e485",
   "metadata": {},
   "outputs": [],
   "source": [
    "def show_all_null(dataframe):\n",
    "    for col_name in dataframe.dtypes:\n",
    "        nc = null_count(dataframe, col_name[0])\n",
    "        if nc > 0:\n",
    "            print(\"{} ===> {} , Ratio: {:.2f}\".format(col_name[0], nc, (nc/dataframe.count())*100))\n",
    "    if nc == 0:\n",
    "        print(\"There is no null value\") "
   ]
  },
  {
   "cell_type": "code",
   "execution_count": 16,
   "id": "26352841",
   "metadata": {},
   "outputs": [
    {
     "name": "stdout",
     "output_type": "stream",
     "text": [
      "There is no null value\n"
     ]
    }
   ],
   "source": [
    "show_all_null(df)"
   ]
  },
  {
   "cell_type": "markdown",
   "id": "02522bf9",
   "metadata": {},
   "source": [
    "# Analysis of Categorical and Numerical Variables"
   ]
  },
  {
   "cell_type": "code",
   "execution_count": 17,
   "id": "a1efdb7c",
   "metadata": {},
   "outputs": [],
   "source": [
    "categorical_cols = []\n",
    "numerical_cols = []\n",
    "label_col = [\"Sales\"]\n",
    "discarted_cols = []"
   ]
  },
  {
   "cell_type": "code",
   "execution_count": 18,
   "id": "65b22c83",
   "metadata": {},
   "outputs": [],
   "source": [
    "def grab_cat_num_cols(dataframe):\n",
    "    for col_name in dataframe.dtypes:\n",
    "        if (col_name[0] not in label_col+discarted_cols):\n",
    "            if col_name[1] == \"string\":\n",
    "                categorical_cols.append(col_name[0])\n",
    "            else:\n",
    "                numerical_cols.append(col_name[0])\n",
    "    return categorical_cols, numerical_cols"
   ]
  },
  {
   "cell_type": "code",
   "execution_count": 19,
   "id": "b8a50555",
   "metadata": {},
   "outputs": [
    {
     "name": "stdout",
     "output_type": "stream",
     "text": [
      "Observations: 200\n",
      "Variables: 5\n",
      "Cat_cols: 0\n",
      "Num_cols: 4\n"
     ]
    }
   ],
   "source": [
    "categorical_cols, numerical_cols = grab_cat_num_cols(df)\n",
    "\n",
    "#Print Categorical and Numerical Variables\n",
    "print(f\"Observations: {df.count()}\")\n",
    "print(f\"Variables: {len(df.columns)}\")\n",
    "print(f\"Cat_cols: {len(categorical_cols)}\")\n",
    "print(f\"Num_cols: {len(numerical_cols)}\")"
   ]
  },
  {
   "cell_type": "code",
   "execution_count": 20,
   "id": "bdf64b1e",
   "metadata": {},
   "outputs": [
    {
     "name": "stdout",
     "output_type": "stream",
     "text": [
      "column check is True\n"
     ]
    }
   ],
   "source": [
    "# column check\n",
    "if (len(df.columns) == (len(label_col) + len(discarted_cols) + len(categorical_cols) + len(numerical_cols))):\n",
    "    print(\"column check is True\")\n",
    "else:\n",
    "    print(\"There is a problem for column check\")"
   ]
  },
  {
   "cell_type": "markdown",
   "id": "6c7102fc",
   "metadata": {},
   "source": [
    "# Encoding Scaling"
   ]
  },
  {
   "cell_type": "code",
   "execution_count": 21,
   "id": "c5151e77",
   "metadata": {},
   "outputs": [],
   "source": [
    "def find_binary_cols(dataframe, cat_cols):\n",
    "    binary_cols = dataframe.select([col for col in cat_cols if dataframe.select(col).dtypes[0][1] == \"string\" and dataframe.select(col).distinct().count() == 2])\n",
    "    return binary_cols"
   ]
  },
  {
   "cell_type": "code",
   "execution_count": 22,
   "id": "ba1afb43",
   "metadata": {},
   "outputs": [
    {
     "name": "stdout",
     "output_type": "stream",
     "text": [
      "[]\n"
     ]
    }
   ],
   "source": [
    "binary_cols = find_binary_cols(df, categorical_cols)\n",
    "print(binary_cols.columns)"
   ]
  },
  {
   "cell_type": "code",
   "execution_count": 23,
   "id": "05781d73",
   "metadata": {},
   "outputs": [],
   "source": [
    "my_dict = {}\n",
    "string_indexer_objs = []\n",
    "string_indexer_output_names = []\n",
    "ohe_input_names = []\n",
    "ohe_output_names = []\n",
    "\n",
    "for col_name in categorical_cols:\n",
    "    my_dict[col_name+\"_index_obj\"] = StringIndexer() \\\n",
    "    .setHandleInvalid(\"skip\") \\\n",
    "    .setInputCol(col_name) \\\n",
    "    .setOutputCol(col_name+\"_indexed\")\n",
    "    \n",
    "    string_indexer_objs.append(my_dict.get(col_name+\"_index_obj\"))\n",
    "    string_indexer_output_names.append(col_name+\"_indexed\")\n",
    "    \n",
    "    if col_name not in binary_cols.columns:\n",
    "        ohe_input_names.append(col_name+\"_indexed\")\n",
    "        ohe_output_names.append(col_name+\"_ohe\")"
   ]
  },
  {
   "cell_type": "code",
   "execution_count": 24,
   "id": "24a9954f",
   "metadata": {},
   "outputs": [
    {
     "name": "stdout",
     "output_type": "stream",
     "text": [
      "[]\n"
     ]
    }
   ],
   "source": [
    "not_to_hot_coded = list(set(string_indexer_output_names).difference(set(ohe_input_names)))\n",
    "print(not_to_hot_coded)"
   ]
  },
  {
   "cell_type": "code",
   "execution_count": 25,
   "id": "ae50b8c2",
   "metadata": {},
   "outputs": [],
   "source": [
    "encoder = OneHotEncoder().setInputCols(ohe_input_names).setOutputCols(ohe_output_names)\n",
    "assembler = VectorAssembler().setHandleInvalid(\"skip\").setInputCols(numerical_cols + not_to_hot_coded + ohe_output_names).setOutputCol(\"unscaled_features\")\n",
    "scaler = StandardScaler().setInputCol(\"unscaled_features\").setOutputCol(\"features\")"
   ]
  },
  {
   "cell_type": "markdown",
   "id": "30fe97fc",
   "metadata": {},
   "source": [
    "# Create Model"
   ]
  },
  {
   "cell_type": "code",
   "execution_count": 26,
   "id": "b6975027",
   "metadata": {},
   "outputs": [
    {
     "name": "stdout",
     "output_type": "stream",
     "text": [
      "(159, 41)\n"
     ]
    }
   ],
   "source": [
    "# split dataset\n",
    "train_df, test_df = df.randomSplit([0.8, 0.2], seed=123)\n",
    "print((train_df.count() , test_df.count()))"
   ]
  },
  {
   "cell_type": "code",
   "execution_count": 27,
   "id": "8f7ab676",
   "metadata": {},
   "outputs": [],
   "source": [
    "# create Estimator\n",
    "estimator = RandomForestRegressor(labelCol=label_col[0])"
   ]
  },
  {
   "cell_type": "code",
   "execution_count": 28,
   "id": "89c4c400",
   "metadata": {},
   "outputs": [],
   "source": [
    "# create pipeline object\n",
    "pipeline_obj = Pipeline().setStages(string_indexer_objs + [encoder, assembler, scaler, estimator])"
   ]
  },
  {
   "cell_type": "code",
   "execution_count": 29,
   "id": "cbb26390",
   "metadata": {},
   "outputs": [],
   "source": [
    "# train model\n",
    "pipeline_model = pipeline_obj.fit(train_df)"
   ]
  },
  {
   "cell_type": "code",
   "execution_count": 30,
   "id": "38fe41fa",
   "metadata": {},
   "outputs": [
    {
     "name": "stdout",
     "output_type": "stream",
     "text": [
      "+-----+------------------+\n",
      "|Sales|        prediction|\n",
      "+-----+------------------+\n",
      "|  9.3| 9.063982142857142|\n",
      "| 11.8|  9.95860881845492|\n",
      "|  9.2| 9.338970959595958|\n",
      "|  9.7|   10.906285283738|\n",
      "| 11.3|11.312310719989057|\n",
      "+-----+------------------+\n",
      "only showing top 5 rows\n",
      "\n"
     ]
    }
   ],
   "source": [
    "# prediction\n",
    "transform_df = pipeline_model.transform(test_df)\n",
    "transform_df.select(\"Sales\", \"prediction\").show(5)"
   ]
  },
  {
   "cell_type": "code",
   "execution_count": 31,
   "id": "a1c34873",
   "metadata": {},
   "outputs": [
    {
     "name": "stdout",
     "output_type": "stream",
     "text": [
      "R2:  0.9371333569310685\n"
     ]
    }
   ],
   "source": [
    "# evaluate model\n",
    "evaluator = RegressionEvaluator(labelCol=label_col[0], metricName=\"r2\")\n",
    "print(\"R2: \", evaluator.evaluate(transform_df))"
   ]
  },
  {
   "cell_type": "code",
   "execution_count": 32,
   "id": "a35ddd52",
   "metadata": {},
   "outputs": [
    {
     "name": "stdout",
     "output_type": "stream",
     "text": [
      "RMSE:  1.3253366343420505\n"
     ]
    }
   ],
   "source": [
    "evaluator = RegressionEvaluator(labelCol=label_col[0], metricName=\"rmse\")\n",
    "print(\"RMSE: \", evaluator.evaluate(transform_df))"
   ]
  },
  {
   "cell_type": "markdown",
   "id": "5fcb5ec1",
   "metadata": {},
   "source": [
    "# Model Tuning"
   ]
  },
  {
   "cell_type": "code",
   "execution_count": 33,
   "id": "498be67b",
   "metadata": {},
   "outputs": [],
   "source": [
    "paramGrid = (ParamGridBuilder()\n",
    "             .addGrid(estimator.maxDepth, [1,2,3,4])\n",
    "             .addGrid(estimator.maxBins, [20, 30, 40])\n",
    "             .addGrid(estimator.numTrees, [10, 20, 30, 40])\n",
    "             .build())\n",
    "cv = CrossValidator(estimator=pipeline_obj,\n",
    "                    estimatorParamMaps=paramGrid,\n",
    "                    evaluator=RegressionEvaluator(labelCol=label_col[0]),\n",
    "                    numFolds=3)"
   ]
  },
  {
   "cell_type": "code",
   "execution_count": 34,
   "id": "41ad9606",
   "metadata": {},
   "outputs": [],
   "source": [
    "cv_model = cv.fit(train_df)"
   ]
  },
  {
   "cell_type": "code",
   "execution_count": 35,
   "id": "6cd0e44f",
   "metadata": {},
   "outputs": [
    {
     "name": "stdout",
     "output_type": "stream",
     "text": [
      "+-----+------------------+\n",
      "|Sales|        prediction|\n",
      "+-----+------------------+\n",
      "|  9.3| 9.228787923881672|\n",
      "| 11.8|11.334805855438447|\n",
      "|  9.2| 9.858650124691485|\n",
      "|  9.7|10.557501713482626|\n",
      "| 11.3|10.310562888775156|\n",
      "+-----+------------------+\n",
      "only showing top 5 rows\n",
      "\n"
     ]
    }
   ],
   "source": [
    "# prediction\n",
    "y_pred = cv_model.transform(test_df)\n",
    "y_pred.select(\"Sales\", \"prediction\").show(5)"
   ]
  },
  {
   "cell_type": "code",
   "execution_count": 36,
   "id": "2ea6a525",
   "metadata": {},
   "outputs": [
    {
     "name": "stdout",
     "output_type": "stream",
     "text": [
      "R2:  0.9275788832749741\n"
     ]
    }
   ],
   "source": [
    "# evaluate model tuning\n",
    "evaluator = RegressionEvaluator(labelCol=label_col[0], metricName=\"r2\")\n",
    "print(\"R2: \", evaluator.evaluate(y_pred))"
   ]
  },
  {
   "cell_type": "code",
   "execution_count": 37,
   "id": "c43297ee",
   "metadata": {},
   "outputs": [
    {
     "name": "stdout",
     "output_type": "stream",
     "text": [
      "RMSE:  1.422488211634301\n"
     ]
    }
   ],
   "source": [
    "evaluator = RegressionEvaluator(labelCol=label_col[0], metricName=\"rmse\")\n",
    "print(\"RMSE: \", evaluator.evaluate(y_pred))"
   ]
  },
  {
   "cell_type": "markdown",
   "id": "28f0408b",
   "metadata": {},
   "source": [
    "# MLFLOW"
   ]
  },
  {
   "cell_type": "code",
   "execution_count": null,
   "id": "3bdffa25",
   "metadata": {},
   "outputs": [],
   "source": [
    "# import necessary libraries for mlflow\n",
    "import pandas as pd\n",
    "import os\n",
    "import mlflow\n",
    "from mlflow.models.signature import infer_signature\n",
    "import mlflow.spark"
   ]
  },
  {
   "cell_type": "code",
   "execution_count": null,
   "id": "1cb14ae7",
   "metadata": {},
   "outputs": [],
   "source": [
    "mlflow.set_tracking_uri('http://localhost:5000/')\n",
    "# print(\"mlflow_tracking_uri: \" + mlflow.tracking.get_tracking_uri())\n",
    "\n",
    "mlflow.set_experiment(\"Advertising_Prediction\")\n",
    "\n",
    "with mlflow.start_run(run_name=\"random-forest\") as run:\n",
    "    # log params\n",
    "    mlflow.log_param(\"num_trees\", estimator.getNumTrees())\n",
    "    mlflow.log_param(\"max_depth\", estimator.getMaxDepth())\n",
    "    mlflow.log_param(\"max_bins\", estimator.getMaxBins())\n",
    "    \n",
    "    pipelineModel = pipeline_obj.fit(train_df)\n",
    "    \n",
    "    # log metrics\n",
    "    predDF = pipelineModel.transform(test_df)\n",
    "    regressionEvaluator = RegressionEvaluator(predictionCol=\"prediction\", labelCol=\"Sales\")\n",
    "    rmse = RegressionEvaluator.setMetricName(\"rmse\").evaluate(predDF)\n",
    "    r2 = RegressionEvaluator.setMetricName(\"r2\").evaluate(predDF)\n",
    "    mlflow.log_metrics({\"rmse\":rmse, \"r2\":r2})\n",
    "    \n",
    "    train = train_df.drop(\"Sales\")\n",
    "    predictions = predDF.drop(\"Sales\",\"features\")\n",
    "    signature = infer_signature(train, predictions)\n",
    "    \n",
    "    # log model\n",
    "    mlflow.spark.log_model(pipelineModel, \"model\", signature=signature)\n",
    "    \n",
    "    # log artifact\n",
    "    rfModel = pipelineModel.stages[-1]\n",
    "    pandasDF = (pd.DataFrame(list(zip(VectorAssembler.getInputCols(), rfModel.featureImportance)),\n",
    "                            columns=[\"feature\",\"importance\"]).sort_values(by=\"importance\", ascending=False))\n",
    "    \n",
    "    # save \n",
    "    pandasDF.to_csv(\"advetising-feature-importance.csv\", index=False)\n",
    "    mlflow.log_artifact(\"advetising-feature-importance.csv\")"
   ]
  }
 ],
 "metadata": {
  "kernelspec": {
   "display_name": "Python 3 (ipykernel)",
   "language": "python",
   "name": "python3"
  },
  "language_info": {
   "codemirror_mode": {
    "name": "ipython",
    "version": 3
   },
   "file_extension": ".py",
   "mimetype": "text/x-python",
   "name": "python",
   "nbconvert_exporter": "python",
   "pygments_lexer": "ipython3",
   "version": "3.9.12"
  }
 },
 "nbformat": 4,
 "nbformat_minor": 5
}
